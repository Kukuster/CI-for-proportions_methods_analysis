{
 "cells": [
  {
   "cell_type": "code",
   "execution_count": 1,
   "id": "amazing-bleeding",
   "metadata": {},
   "outputs": [],
   "source": [
    "# imports\n",
    "import decimal # for 100% precision fractional operations (doesn't support most math functions like sqrt)\n",
    "from decimal import Decimal\n",
    "from bigfloat import * # for high precision float operations (supports most math functions like sqrt, often faster than decimal)\n",
    "from matplotlib import pyplot as plt\n",
    "from scipy.stats import norm\n",
    "import numpy as np\n",
    "import math"
   ]
  },
  {
   "cell_type": "code",
   "execution_count": 2,
   "id": "lyric-examination",
   "metadata": {},
   "outputs": [],
   "source": [
    "# global settings\n",
    "plt.style.use('dark_background')"
   ]
  },
  {
   "cell_type": "code",
   "execution_count": 3,
   "id": "homeless-premises",
   "metadata": {},
   "outputs": [
    {
     "name": "stdout",
     "output_type": "stream",
     "text": [
      "<bound method BigFloat.__repr__ of BigFloat.exact('1.4142135623730950488016887242096980785696718753769480731766796', precision=200)>\n",
      "1.4142135623730951\n"
     ]
    }
   ],
   "source": [
    "# testing bigfloat lib\n",
    "with precision(200) + RoundTowardZero:\n",
    "    foo = sqrt(2)\n",
    "\n",
    "print(foo.__repr__)\n",
    "print(float(foo))"
   ]
  },
  {
   "cell_type": "code",
   "execution_count": null,
   "id": "surface-musical",
   "metadata": {},
   "outputs": [],
   "source": []
  },
  {
   "cell_type": "markdown",
   "id": "alpine-flash",
   "metadata": {},
   "source": [
    "## Data functions"
   ]
  },
  {
   "cell_type": "code",
   "execution_count": 5,
   "id": "fifty-string",
   "metadata": {},
   "outputs": [],
   "source": [
    "def BigFloat_to_Decimal(x):\n",
    "    try:\n",
    "        return (Decimal(e.__str__()) for e in x)\n",
    "    except TypeError:\n",
    "        return Decimal(x.__str__())\n",
    "\n",
    "def Decimal_to_BigFloat(x):\n",
    "    try:\n",
    "        return (BigFloat(e.__str__()) for e in x)\n",
    "    except TypeError:\n",
    "        return BigFloat(x.__str__())\n",
    "\n",
    "\n",
    "# like python range, but for decimals\n",
    "def drange(x, y, jump):\n",
    "    while x <= y:\n",
    "        yield float(x)\n",
    "        x += Decimal(jump)\n"
   ]
  },
  {
   "cell_type": "markdown",
   "id": "selected-shakespeare",
   "metadata": {},
   "source": [
    "##  Math functions"
   ]
  },
  {
   "cell_type": "markdown",
   "id": "delayed-civilian",
   "metadata": {},
   "source": [
    "### <p style=\"text-align: center;\"> Wald interval </p>\n",
    "\n",
    "$$(w^-, w^+) = \\hat{p}\\,\\pm\\,z\\sqrt{\\frac{\\hat{p}(1-\\hat{p})}{n}}$$"
   ]
  },
  {
   "cell_type": "code",
   "execution_count": 6,
   "id": "adapted-contemporary",
   "metadata": {},
   "outputs": [],
   "source": [
    "def wald_interval(x, n, conflevel = 0.95):\n",
    "    p = x/n\n",
    "    var = (p*(1-p))/n\n",
    "    sd = math.sqrt((p*(1-p))/n)\n",
    "    z = (norm.ppf((1-conflevel)/2), norm.ppf(1 - ((1-conflevel)/2) ) ) \n",
    "    ci = (p + z[0]*sd, p + z[1]*sd)\n",
    "    return ci\n"
   ]
  },
  {
   "cell_type": "code",
   "execution_count": 7,
   "id": "white-chrome",
   "metadata": {},
   "outputs": [
    {
     "name": "stdout",
     "output_type": "stream",
     "text": [
      "calculating currently on prob=0.001\n",
      "calculating currently on prob=0.002\n",
      "calculating currently on prob=0.003\n",
      "calculating currently on prob=0.01\n",
      "calculating currently on prob=0.02\n",
      "calculating currently on prob=0.05\n"
     ]
    },
    {
     "ename": "KeyboardInterrupt",
     "evalue": "",
     "output_type": "error",
     "traceback": [
      "\u001b[0;31m---------------------------------------------------------------------------\u001b[0m",
      "\u001b[0;31mKeyboardInterrupt\u001b[0m                         Traceback (most recent call last)",
      "\u001b[0;32m<ipython-input-7-89bdcdc5e80b>\u001b[0m in \u001b[0;36m<module>\u001b[0;34m\u001b[0m\n\u001b[1;32m     18\u001b[0m     \u001b[0mn_covered\u001b[0m \u001b[0;34m=\u001b[0m \u001b[0;36m0\u001b[0m\u001b[0;34m\u001b[0m\u001b[0;34m\u001b[0m\u001b[0m\n\u001b[1;32m     19\u001b[0m     \u001b[0;32mfor\u001b[0m \u001b[0mj\u001b[0m \u001b[0;32min\u001b[0m \u001b[0mrange\u001b[0m\u001b[0;34m(\u001b[0m\u001b[0;36m0\u001b[0m\u001b[0;34m,\u001b[0m \u001b[0mnumSamples\u001b[0m\u001b[0;34m)\u001b[0m\u001b[0;34m:\u001b[0m\u001b[0;34m\u001b[0m\u001b[0;34m\u001b[0m\u001b[0m\n\u001b[0;32m---> 20\u001b[0;31m         \u001b[0mci\u001b[0m \u001b[0;34m=\u001b[0m \u001b[0mwald_interval\u001b[0m\u001b[0;34m(\u001b[0m\u001b[0mn\u001b[0m \u001b[0;34m=\u001b[0m \u001b[0mx\u001b[0m\u001b[0;34m[\u001b[0m\u001b[0mj\u001b[0m\u001b[0;34m]\u001b[0m\u001b[0;34m,\u001b[0m \u001b[0mx\u001b[0m \u001b[0;34m=\u001b[0m \u001b[0mnumTrials\u001b[0m\u001b[0;34m)\u001b[0m\u001b[0;34m\u001b[0m\u001b[0;34m\u001b[0m\u001b[0m\n\u001b[0m\u001b[1;32m     21\u001b[0m         \u001b[0mn_covered\u001b[0m \u001b[0;34m+=\u001b[0m \u001b[0mint\u001b[0m\u001b[0;34m(\u001b[0m\u001b[0mci\u001b[0m\u001b[0;34m[\u001b[0m\u001b[0;36m0\u001b[0m\u001b[0;34m]\u001b[0m \u001b[0;34m<\u001b[0m \u001b[0mprob\u001b[0m \u001b[0;34m<\u001b[0m \u001b[0mci\u001b[0m\u001b[0;34m[\u001b[0m\u001b[0;36m1\u001b[0m\u001b[0;34m]\u001b[0m\u001b[0;34m)\u001b[0m\u001b[0;34m\u001b[0m\u001b[0;34m\u001b[0m\u001b[0m\n\u001b[1;32m     22\u001b[0m \u001b[0;31m#         print(j,isCovered[j])\u001b[0m\u001b[0;34m\u001b[0m\u001b[0;34m\u001b[0m\u001b[0;34m\u001b[0m\u001b[0m\n",
      "\u001b[0;32m<ipython-input-6-49d64b622144>\u001b[0m in \u001b[0;36mwald_interval\u001b[0;34m(x, n, conflevel)\u001b[0m\n\u001b[1;32m      3\u001b[0m     \u001b[0mvar\u001b[0m \u001b[0;34m=\u001b[0m \u001b[0;34m(\u001b[0m\u001b[0mp\u001b[0m\u001b[0;34m*\u001b[0m\u001b[0;34m(\u001b[0m\u001b[0;36m1\u001b[0m\u001b[0;34m-\u001b[0m\u001b[0mp\u001b[0m\u001b[0;34m)\u001b[0m\u001b[0;34m)\u001b[0m\u001b[0;34m/\u001b[0m\u001b[0mn\u001b[0m\u001b[0;34m\u001b[0m\u001b[0;34m\u001b[0m\u001b[0m\n\u001b[1;32m      4\u001b[0m     \u001b[0msd\u001b[0m \u001b[0;34m=\u001b[0m \u001b[0mmath\u001b[0m\u001b[0;34m.\u001b[0m\u001b[0msqrt\u001b[0m\u001b[0;34m(\u001b[0m\u001b[0;34m(\u001b[0m\u001b[0mp\u001b[0m\u001b[0;34m*\u001b[0m\u001b[0;34m(\u001b[0m\u001b[0;36m1\u001b[0m\u001b[0;34m-\u001b[0m\u001b[0mp\u001b[0m\u001b[0;34m)\u001b[0m\u001b[0;34m)\u001b[0m\u001b[0;34m/\u001b[0m\u001b[0mn\u001b[0m\u001b[0;34m)\u001b[0m\u001b[0;34m\u001b[0m\u001b[0;34m\u001b[0m\u001b[0m\n\u001b[0;32m----> 5\u001b[0;31m     \u001b[0mz\u001b[0m \u001b[0;34m=\u001b[0m \u001b[0;34m(\u001b[0m\u001b[0mnorm\u001b[0m\u001b[0;34m.\u001b[0m\u001b[0mppf\u001b[0m\u001b[0;34m(\u001b[0m\u001b[0;34m(\u001b[0m\u001b[0;36m1\u001b[0m\u001b[0;34m-\u001b[0m\u001b[0mconflevel\u001b[0m\u001b[0;34m)\u001b[0m\u001b[0;34m/\u001b[0m\u001b[0;36m2\u001b[0m\u001b[0;34m)\u001b[0m\u001b[0;34m,\u001b[0m \u001b[0mnorm\u001b[0m\u001b[0;34m.\u001b[0m\u001b[0mppf\u001b[0m\u001b[0;34m(\u001b[0m\u001b[0;36m1\u001b[0m \u001b[0;34m-\u001b[0m \u001b[0;34m(\u001b[0m\u001b[0;34m(\u001b[0m\u001b[0;36m1\u001b[0m\u001b[0;34m-\u001b[0m\u001b[0mconflevel\u001b[0m\u001b[0;34m)\u001b[0m\u001b[0;34m/\u001b[0m\u001b[0;36m2\u001b[0m\u001b[0;34m)\u001b[0m \u001b[0;34m)\u001b[0m \u001b[0;34m)\u001b[0m\u001b[0;34m\u001b[0m\u001b[0;34m\u001b[0m\u001b[0m\n\u001b[0m\u001b[1;32m      6\u001b[0m     \u001b[0mci\u001b[0m \u001b[0;34m=\u001b[0m \u001b[0;34m(\u001b[0m\u001b[0mp\u001b[0m \u001b[0;34m+\u001b[0m \u001b[0mz\u001b[0m\u001b[0;34m[\u001b[0m\u001b[0;36m0\u001b[0m\u001b[0;34m]\u001b[0m\u001b[0;34m*\u001b[0m\u001b[0msd\u001b[0m\u001b[0;34m,\u001b[0m \u001b[0mp\u001b[0m \u001b[0;34m+\u001b[0m \u001b[0mz\u001b[0m\u001b[0;34m[\u001b[0m\u001b[0;36m1\u001b[0m\u001b[0;34m]\u001b[0m\u001b[0;34m*\u001b[0m\u001b[0msd\u001b[0m\u001b[0;34m)\u001b[0m\u001b[0;34m\u001b[0m\u001b[0;34m\u001b[0m\u001b[0m\n\u001b[1;32m      7\u001b[0m     \u001b[0;32mreturn\u001b[0m \u001b[0mci\u001b[0m\u001b[0;34m\u001b[0m\u001b[0;34m\u001b[0m\u001b[0m\n",
      "\u001b[0;32m~/.local/lib/python3.8/site-packages/scipy/stats/_distn_infrastructure.py\u001b[0m in \u001b[0;36mppf\u001b[0;34m(self, q, *args, **kwds)\u001b[0m\n\u001b[1;32m   2104\u001b[0m             \u001b[0mgoodargs\u001b[0m \u001b[0;34m=\u001b[0m \u001b[0margsreduce\u001b[0m\u001b[0;34m(\u001b[0m\u001b[0mcond\u001b[0m\u001b[0;34m,\u001b[0m \u001b[0;34m*\u001b[0m\u001b[0;34m(\u001b[0m\u001b[0;34m(\u001b[0m\u001b[0mq\u001b[0m\u001b[0;34m,\u001b[0m\u001b[0;34m)\u001b[0m\u001b[0;34m+\u001b[0m\u001b[0margs\u001b[0m\u001b[0;34m+\u001b[0m\u001b[0;34m(\u001b[0m\u001b[0mscale\u001b[0m\u001b[0;34m,\u001b[0m \u001b[0mloc\u001b[0m\u001b[0;34m)\u001b[0m\u001b[0;34m)\u001b[0m\u001b[0;34m)\u001b[0m\u001b[0;34m\u001b[0m\u001b[0;34m\u001b[0m\u001b[0m\n\u001b[1;32m   2105\u001b[0m             \u001b[0mscale\u001b[0m\u001b[0;34m,\u001b[0m \u001b[0mloc\u001b[0m\u001b[0;34m,\u001b[0m \u001b[0mgoodargs\u001b[0m \u001b[0;34m=\u001b[0m \u001b[0mgoodargs\u001b[0m\u001b[0;34m[\u001b[0m\u001b[0;34m-\u001b[0m\u001b[0;36m2\u001b[0m\u001b[0;34m]\u001b[0m\u001b[0;34m,\u001b[0m \u001b[0mgoodargs\u001b[0m\u001b[0;34m[\u001b[0m\u001b[0;34m-\u001b[0m\u001b[0;36m1\u001b[0m\u001b[0;34m]\u001b[0m\u001b[0;34m,\u001b[0m \u001b[0mgoodargs\u001b[0m\u001b[0;34m[\u001b[0m\u001b[0;34m:\u001b[0m\u001b[0;34m-\u001b[0m\u001b[0;36m2\u001b[0m\u001b[0;34m]\u001b[0m\u001b[0;34m\u001b[0m\u001b[0;34m\u001b[0m\u001b[0m\n\u001b[0;32m-> 2106\u001b[0;31m             \u001b[0mplace\u001b[0m\u001b[0;34m(\u001b[0m\u001b[0moutput\u001b[0m\u001b[0;34m,\u001b[0m \u001b[0mcond\u001b[0m\u001b[0;34m,\u001b[0m \u001b[0mself\u001b[0m\u001b[0;34m.\u001b[0m\u001b[0m_ppf\u001b[0m\u001b[0;34m(\u001b[0m\u001b[0;34m*\u001b[0m\u001b[0mgoodargs\u001b[0m\u001b[0;34m)\u001b[0m \u001b[0;34m*\u001b[0m \u001b[0mscale\u001b[0m \u001b[0;34m+\u001b[0m \u001b[0mloc\u001b[0m\u001b[0;34m)\u001b[0m\u001b[0;34m\u001b[0m\u001b[0;34m\u001b[0m\u001b[0m\n\u001b[0m\u001b[1;32m   2107\u001b[0m         \u001b[0;32mif\u001b[0m \u001b[0moutput\u001b[0m\u001b[0;34m.\u001b[0m\u001b[0mndim\u001b[0m \u001b[0;34m==\u001b[0m \u001b[0;36m0\u001b[0m\u001b[0;34m:\u001b[0m\u001b[0;34m\u001b[0m\u001b[0;34m\u001b[0m\u001b[0m\n\u001b[1;32m   2108\u001b[0m             \u001b[0;32mreturn\u001b[0m \u001b[0moutput\u001b[0m\u001b[0;34m[\u001b[0m\u001b[0;34m(\u001b[0m\u001b[0;34m)\u001b[0m\u001b[0;34m]\u001b[0m\u001b[0;34m\u001b[0m\u001b[0;34m\u001b[0m\u001b[0m\n",
      "\u001b[0;31mKeyboardInterrupt\u001b[0m: "
     ]
    }
   ],
   "source": [
    "\n",
    "\n",
    "numSamples = 10000\n",
    "numTrials = 200\n",
    "probs = drange(Decimal('0.001'), Decimal('0.999'), Decimal('0.001'))\n",
    "# print(len(list(probs)))\n",
    "\n",
    "# ci = wald_interval(x=20,n=40)\n",
    "\n",
    "# print(list(range(1, numSamples)))\n",
    "\n"
   ]
  },
  {
   "cell_type": "markdown",
   "id": "dutch-activity",
   "metadata": {},
   "source": [
    "### <p style=\"text-align: center;\"> Wilson score interval </p>\n",
    "\n",
    "$$(w^-, w^+) = \\frac{p + z^2/2n \\pm z\\sqrt{p(1-p)/n + z^2/4n^2}}{1+z^2/n}$$"
   ]
  },
  {
   "cell_type": "markdown",
   "id": "polar-topic",
   "metadata": {},
   "source": [
    "### <p style=\"text-align: center;\"> Wilson score interval (continuity-corrected) </p>\n",
    "\n",
    "$$w_{cc}^- = \\frac{2np + z^2 - (z\\sqrt{z^2 - 1/n + 4np(1-p) + (4p-2)} + 1)}{2(n+z^2)}$$\n",
    "\n",
    "\n",
    "$$w_{cc}^+ = \\frac{2np + z^2 + (z\\sqrt{z^2 - 1/n + 4np(1-p) - (4p-2)} + 1)}{2(n+z^2)}$$\n",
    "\n",
    "or, simplified:\n",
    "\n",
    "$$e = 2np + z^2;\\,\\,\\, f = z^2 - 1/n + 4np(1-p);\\,\\,\\, g = (4p - 2);\\,\\,\\, h = 2(n+z^2)$$\n",
    "\n",
    "$$w_{cc}^- = \\frac{e - (z\\sqrt{f+g} + 1)}{h}$$\n",
    "\n",
    "$$w_{cc}^+ = \\frac{e + (z\\sqrt{f-g} + 1)}{h}$$"
   ]
  },
  {
   "cell_type": "markdown",
   "id": "musical-samoa",
   "metadata": {},
   "source": [
    "The best performance for values of $p$ from $2\\cdot10^{-5}$ to $2\\cdot10^{-4}$ and values of $n$ from $20000$ to $40000$ showed 2 methods:\n",
    "\n",
    "Wilson Score Interval and Wilson score interval (continuity-semi-corrected). The latter is just the arithmetic mean between uncorrected Wilson Score Interval and the continuity-corrected.\n",
    "\n",
    "Lets use them."
   ]
  },
  {
   "cell_type": "markdown",
   "id": "french-anthony",
   "metadata": {},
   "source": [
    "## <p style=\"text-align: center;\">CI for the difference between two proportions</p>\n",
    "\n",
    "### <p style=\"text-align: center;\">Z test (Unpooled)</p>\n",
    "\n",
    "$$ z_{t} = \\frac{\\hat{p}_T - \\hat{p}_C - \\delta}{\\sqrt{\\frac{\\hat{p}_T (1 - \\hat{p}_T)}{n_T} + \\frac{\\hat{p}_C (1 - \\hat{p}_C)}{n_C}}} $$\n",
    "\n",
    "lower limit is found by solving $z_{t} = |z_{\\alpha}|$ \n",
    "\n",
    "and the upper limit is found by solving $z_{t} = -|z_{\\alpha}|$\n",
    "\n",
    "\n",
    "$$ (\\delta^-, \\delta^+) = \\hat{p}_T - \\hat{p}_C \\pm z_{\\alpha}\\sqrt{\\frac{\\hat{p}_T (1 - \\hat{p}_T)}{n_T} + \\frac{\\hat{p}_C (1 - \\hat{p}_C)}{n_C}} $$\n",
    "\n",
    "<br>\n",
    "\n",
    "### <p style=\"text-align: center;\">Z test (Pooled)</p>\n",
    "\n",
    "$$ z_{t} = \\frac{\\hat{p}_T - \\hat{p}_C - \\delta}{\\sqrt{\\bar{p}(1-\\bar{p})(\\frac{1}{n_T}+\\frac{1}{n_C})}} $$\n",
    "\n",
    "$$\\bar{p} = \\frac{n_T\\hat{p}_T + n_C\\hat{p}_C}{n_T + n_C}$$\n",
    "\n",
    "lower limit is found by solving $z_{t} = |z_{\\alpha}|$ \n",
    "\n",
    "and the upper limit is found by solving $z_{t} = -|z_{\\alpha}|$\n",
    "\n",
    "\n",
    "$$ (\\delta^-, \\delta^+) = \\hat{p}_T - \\hat{p}_C \\pm z_{\\alpha}\\sqrt{\\bar{p}(1-\\bar{p})(\\frac{1}{n_T}+\\frac{1}{n_C})} $$\n",
    "\n"
   ]
  },
  {
   "cell_type": "code",
   "execution_count": null,
   "id": "rolled-voltage",
   "metadata": {},
   "outputs": [],
   "source": []
  }
 ],
 "metadata": {
  "kernelspec": {
   "display_name": "Python 3",
   "language": "python",
   "name": "python3"
  },
  "language_info": {
   "codemirror_mode": {
    "name": "ipython",
    "version": 3
   },
   "file_extension": ".py",
   "mimetype": "text/x-python",
   "name": "python",
   "nbconvert_exporter": "python",
   "pygments_lexer": "ipython3",
   "version": "3.8.5"
  }
 },
 "nbformat": 4,
 "nbformat_minor": 5
}
